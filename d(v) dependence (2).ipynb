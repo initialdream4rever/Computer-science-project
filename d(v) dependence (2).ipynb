{
 "cells": [
  {
   "cell_type": "code",
   "execution_count": 1,
   "metadata": {},
   "outputs": [
    {
     "name": "stdout",
     "output_type": "stream",
     "text": [
      "10 / 225.0\n",
      "20 / 225.0\n",
      "30 / 225.0\n",
      "40 / 225.0\n",
      "50 / 225.0\n",
      "60 / 225.0\n",
      "70 / 225.0\n",
      "80 / 225.0\n",
      "90 / 225.0\n",
      "100 / 225.0\n",
      "110 / 225.0\n",
      "120 / 225.0\n",
      "130 / 225.0\n",
      "140 / 225.0\n",
      "150 / 225.0\n",
      "160 / 225.0\n",
      "170 / 225.0\n",
      "180 / 225.0\n",
      "190 / 225.0\n",
      "200 / 225.0\n",
      "210 / 225.0\n",
      "220 / 225.0\n"
     ]
    }
   ],
   "source": [
    "import sympy as sp\n",
    "import matplotlib.pyplot as plt \n",
    "import scipy as scp\n",
    "m, g, R, M, I, k, t, VV, E0, r = sp.symbols('m, g, R, M, I, gamma t, omega, E0, r ')\n",
    "\n",
    "y0, u, w = sp.symbols('y0, u, w ') # y0=y center mass0, u-v center wheel0, w-m vel0\n",
    "\n",
    "E0 = m*g*y0 + M*u**2/2 + I*u**2/(2*R**2) + m*w**2/2\n",
    "\n",
    "fi0 = sp.symbols('varphi0')\n",
    "fi = sp.Function(r'\\varphi')(t)\n",
    "ycm = R*(1+k*sp.cos(fi+fi0))\n",
    "xmdot = (R*(fi+fi0)+r*sp.sin(fi+fi0)).diff(t)\n",
    "ymdot = (R+r*sp.cos(fi+fi0)).diff(t)\n",
    "\n",
    "E1= m*g*ycm #Wpm\n",
    "E2 = M*(fi.diff()*R)**2/2 #EM cm\n",
    "E3 = I*fi.diff()**2/2 #EM relat cm\n",
    "E4= m*(xmdot**2+ymdot**2)/2 # Em\n",
    "E = E1 +E2 + E3 +E4\n",
    "\n",
    "    \n",
    "#calculations\n",
    "eq = sp.Eq(E,E0)\n",
    "fidotonfi = list(sp.solveset(eq, fi.diff()))[1]\n",
    "fidoubledotonfi = fidotonfi.diff(t)\n",
    "fidoubledotonfi\n",
    "ycm1 = (ycm.diff(t,2).subs(sp.diff(fi,t,2), fidoubledotonfi )).subs(sp.diff(fi,t), fidotonfi)\n",
    "import matplotlib.pyplot as plt\n",
    "import numpy as np\n",
    "exprg = m*r/((M+m)*R)\n",
    "ycm1 = ycm1.subs(k, exprg )\n",
    "\n",
    "\n",
    "\n",
    "num = 100\n",
    "u1 = 2.75\n",
    "u2 = 5\n",
    "s=0\n",
    "t=0\n",
    "rin = 0.059 #the third hole 0.059, the second 3.65\n",
    "Rin = 0.075\n",
    "\n",
    "t0 = num*(u2-u1)\n",
    "arrv = [ 0 for i in range(int(u1*num),int(u2*num),1)]\n",
    "arrfic = [ 0 for i in range(int(u1*num),int(u2*num),1)]\n",
    "\n",
    "p = (Rin - rin)/Rin\n",
    "for un in range (int(u1*num),int(u2*num),1):\n",
    "    arrv[s]=un/num\n",
    "    arr = [(M,0.070), (R,Rin), (r, rin), (m, 0.074), (I,2.15*10**-4), (g,9.8), #system patameters\n",
    "    (y0, Rin - rin), (u,un/num), (w,p*un/num), (fi0, 3.1415)] #initial parameters\n",
    "    #substitution of gamma on distance between m and center of the wheel\n",
    "    ycmalternating = ycm1.subs(arr)\n",
    "\n",
    "    yddonfi = sp.lambdify(fi,ycmalternating, modules = np)\n",
    "    #acquiring fi angle of jump \n",
    "    fiarr = np.linspace(0,3.5,10000)\n",
    "    for fic in fiarr:\n",
    "        if -9.81 < yddonfi(fic) < -9.79:\n",
    "            arrfic[s] = fic\n",
    "            break\n",
    "    s+=1\n",
    "    t+=1\n",
    "    if t % 10 ==0:\n",
    "        print(t,'/',t0)\n",
    "\n",
    "\n",
    "\n",
    "\n"
   ]
  },
  {
   "cell_type": "code",
   "execution_count": 2,
   "metadata": {},
   "outputs": [],
   "source": [
    "import pandas as pd"
   ]
  },
  {
   "cell_type": "code",
   "execution_count": 12,
   "metadata": {},
   "outputs": [],
   "source": [
    "data1 = pd.read_csv('d(v) 600 third hole v2.txt', sep='\\t')\n",
    "data1['errd']=1.5\n",
    "data1['errv']=0.2\n"
   ]
  },
  {
   "cell_type": "code",
   "execution_count": 5,
   "metadata": {},
   "outputs": [
    {
     "data": {
      "text/plain": [
       "<ErrorbarContainer object of 3 artists>"
      ]
     },
     "execution_count": 5,
     "metadata": {},
     "output_type": "execute_result"
    },
    {
     "data": {
      "image/png": "[encoded data removed]",
      "text/plain": [
       "<Figure size 640x480 with 1 Axes>"
      ]
     },
     "metadata": {},
     "output_type": "display_data"
    }
   ],
   "source": [
    "#plotting graph of displacement on initial velocity dependence\n",
    "import matplotlib.pyplot as plt\n",
    "plt.grid()\n",
    "#plt.title('displacement before jump on initial velocity of the center of the disk')\n",
    "plt.ylabel('displacement, cm')\n",
    "plt.xlabel('initial velocity, m/s')\n",
    "plt.ylim(8,18)\n",
    "plt.xlim(2.5,5)\n",
    "plt.plot(arrv, [i*0.075*100 for i in arrfic])\n",
    "# data1 = pd.read_csv('d(v) 600 third hole v2.txt', sep='\\t')\n",
    "# plt.scatter(data1['v'], data1['d'])\n",
    "# plt.errorbar(data1['v'], data1['d'], xerr=0.1, yerr=2, ls='none')"
   ]
  }
 ],
 "metadata": {
  "kernelspec": {
   "display_name": "Python 3",
   "language": "python",
   "name": "python3"
  },
  "language_info": {
   "codemirror_mode": {
    "name": "ipython",
    "version": 3
   },
   "file_extension": ".py",
   "mimetype": "text/x-python",
   "name": "python",
   "nbconvert_exporter": "python",
   "pygments_lexer": "ipython3",
   "version": "3.11.5"
  }
 },
 "nbformat": 4,
 "nbformat_minor": 2
}
